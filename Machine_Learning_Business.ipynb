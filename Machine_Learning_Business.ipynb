{
 "cells": [
  {
   "cell_type": "markdown",
   "metadata": {},
   "source": [
    "# Introduction"
   ]
  },
  {
   "cell_type": "markdown",
   "metadata": {},
   "source": [
    "We are aiming to identify the optimal location for a new oil well. This will involve gathering crucial data on oil well parameters such as oil quality and reserve volumes in the selected region. Armed with this information, I will then develop a predictive model to forecast the volume of reserves in prospective new wells. By applying this model, I'll determine which wells boast the highest estimated values, leading me towards the region promising the highest total profit. To further bolster my choice, I will apply the Bootstrapping technique to analyze potential profits and associated risks. My work will thereby fuel OilyGiant's operational success and contribute to effective strategic decision-making."
   ]
  },
  {
   "cell_type": "markdown",
   "metadata": {},
   "source": [
    "---"
   ]
  },
  {
   "cell_type": "code",
   "execution_count": 1,
   "metadata": {},
   "outputs": [],
   "source": [
    "import pandas as pd\n",
    "import numpy as np\n",
    "\n",
    "from sklearn.linear_model import LinearRegression\n",
    "from sklearn.metrics import accuracy_score, mean_squared_error, confusion_matrix, classification_report\n",
    "\n",
    "from sklearn.model_selection import train_test_split, GridSearchCV, cross_val_score"
   ]
  },
  {
   "cell_type": "markdown",
   "metadata": {},
   "source": [
    "## Downloading and Preparing Data"
   ]
  },
  {
   "cell_type": "code",
   "execution_count": 2,
   "metadata": {},
   "outputs": [],
   "source": [
    "first_geo = pd.read_csv('datasets/geo_data_0.csv')\n",
    "second_geo = pd.read_csv('datasets/geo_data_1.csv')\n",
    "third_geo = pd.read_csv('datasets/geo_data_2.csv')"
   ]
  },
  {
   "cell_type": "code",
   "execution_count": 4,
   "metadata": {},
   "outputs": [],
   "source": [
    "first_geo['id'] = range(len(first_geo))"
   ]
  },
  {
   "cell_type": "code",
   "execution_count": 5,
   "metadata": {},
   "outputs": [],
   "source": [
    "first_geo['product'] = first_geo['product'].apply(pd.to_numeric).astype('int')"
   ]
  },
  {
   "cell_type": "code",
   "execution_count": 5,
   "metadata": {
    "scrolled": true
   },
   "outputs": [
    {
     "data": {
      "text/html": [
       "<div>\n",
       "<style scoped>\n",
       "    .dataframe tbody tr th:only-of-type {\n",
       "        vertical-align: middle;\n",
       "    }\n",
       "\n",
       "    .dataframe tbody tr th {\n",
       "        vertical-align: top;\n",
       "    }\n",
       "\n",
       "    .dataframe thead th {\n",
       "        text-align: right;\n",
       "    }\n",
       "</style>\n",
       "<table border=\"1\" class=\"dataframe\">\n",
       "  <thead>\n",
       "    <tr style=\"text-align: right;\">\n",
       "      <th></th>\n",
       "      <th>id</th>\n",
       "      <th>f0</th>\n",
       "      <th>f1</th>\n",
       "      <th>f2</th>\n",
       "      <th>product</th>\n",
       "    </tr>\n",
       "  </thead>\n",
       "  <tbody>\n",
       "    <tr>\n",
       "      <th>0</th>\n",
       "      <td>0</td>\n",
       "      <td>0.705745</td>\n",
       "      <td>-0.497823</td>\n",
       "      <td>1.221170</td>\n",
       "      <td>105</td>\n",
       "    </tr>\n",
       "    <tr>\n",
       "      <th>1</th>\n",
       "      <td>1</td>\n",
       "      <td>1.334711</td>\n",
       "      <td>-0.340164</td>\n",
       "      <td>4.365080</td>\n",
       "      <td>73</td>\n",
       "    </tr>\n",
       "    <tr>\n",
       "      <th>2</th>\n",
       "      <td>2</td>\n",
       "      <td>1.022732</td>\n",
       "      <td>0.151990</td>\n",
       "      <td>1.419926</td>\n",
       "      <td>85</td>\n",
       "    </tr>\n",
       "    <tr>\n",
       "      <th>3</th>\n",
       "      <td>3</td>\n",
       "      <td>-0.032172</td>\n",
       "      <td>0.139033</td>\n",
       "      <td>2.978566</td>\n",
       "      <td>168</td>\n",
       "    </tr>\n",
       "    <tr>\n",
       "      <th>4</th>\n",
       "      <td>4</td>\n",
       "      <td>1.988431</td>\n",
       "      <td>0.155413</td>\n",
       "      <td>4.751769</td>\n",
       "      <td>154</td>\n",
       "    </tr>\n",
       "  </tbody>\n",
       "</table>\n",
       "</div>"
      ],
      "text/plain": [
       "   id        f0        f1        f2  product\n",
       "0   0  0.705745 -0.497823  1.221170      105\n",
       "1   1  1.334711 -0.340164  4.365080       73\n",
       "2   2  1.022732  0.151990  1.419926       85\n",
       "3   3 -0.032172  0.139033  2.978566      168\n",
       "4   4  1.988431  0.155413  4.751769      154"
      ]
     },
     "execution_count": 5,
     "metadata": {},
     "output_type": "execute_result"
    }
   ],
   "source": [
    "first_geo.head() "
   ]
  },
  {
   "cell_type": "code",
   "execution_count": 6,
   "metadata": {},
   "outputs": [],
   "source": [
    "second_geo['id'] = range(len(second_geo))"
   ]
  },
  {
   "cell_type": "code",
   "execution_count": 7,
   "metadata": {},
   "outputs": [],
   "source": [
    "second_geo['product'] = second_geo['product'].apply(pd.to_numeric).astype('int')"
   ]
  },
  {
   "cell_type": "code",
   "execution_count": 8,
   "metadata": {},
   "outputs": [
    {
     "data": {
      "text/html": [
       "<div>\n",
       "<style scoped>\n",
       "    .dataframe tbody tr th:only-of-type {\n",
       "        vertical-align: middle;\n",
       "    }\n",
       "\n",
       "    .dataframe tbody tr th {\n",
       "        vertical-align: top;\n",
       "    }\n",
       "\n",
       "    .dataframe thead th {\n",
       "        text-align: right;\n",
       "    }\n",
       "</style>\n",
       "<table border=\"1\" class=\"dataframe\">\n",
       "  <thead>\n",
       "    <tr style=\"text-align: right;\">\n",
       "      <th></th>\n",
       "      <th>id</th>\n",
       "      <th>f0</th>\n",
       "      <th>f1</th>\n",
       "      <th>f2</th>\n",
       "      <th>product</th>\n",
       "    </tr>\n",
       "  </thead>\n",
       "  <tbody>\n",
       "    <tr>\n",
       "      <th>0</th>\n",
       "      <td>0</td>\n",
       "      <td>-15.001348</td>\n",
       "      <td>-8.276000</td>\n",
       "      <td>-0.005876</td>\n",
       "      <td>3</td>\n",
       "    </tr>\n",
       "    <tr>\n",
       "      <th>1</th>\n",
       "      <td>1</td>\n",
       "      <td>14.272088</td>\n",
       "      <td>-3.475083</td>\n",
       "      <td>0.999183</td>\n",
       "      <td>26</td>\n",
       "    </tr>\n",
       "    <tr>\n",
       "      <th>2</th>\n",
       "      <td>2</td>\n",
       "      <td>6.263187</td>\n",
       "      <td>-5.948386</td>\n",
       "      <td>5.001160</td>\n",
       "      <td>134</td>\n",
       "    </tr>\n",
       "    <tr>\n",
       "      <th>3</th>\n",
       "      <td>3</td>\n",
       "      <td>-13.081196</td>\n",
       "      <td>-11.506057</td>\n",
       "      <td>4.999415</td>\n",
       "      <td>137</td>\n",
       "    </tr>\n",
       "    <tr>\n",
       "      <th>4</th>\n",
       "      <td>4</td>\n",
       "      <td>12.702195</td>\n",
       "      <td>-8.147433</td>\n",
       "      <td>5.004363</td>\n",
       "      <td>134</td>\n",
       "    </tr>\n",
       "  </tbody>\n",
       "</table>\n",
       "</div>"
      ],
      "text/plain": [
       "   id         f0         f1        f2  product\n",
       "0   0 -15.001348  -8.276000 -0.005876        3\n",
       "1   1  14.272088  -3.475083  0.999183       26\n",
       "2   2   6.263187  -5.948386  5.001160      134\n",
       "3   3 -13.081196 -11.506057  4.999415      137\n",
       "4   4  12.702195  -8.147433  5.004363      134"
      ]
     },
     "execution_count": 8,
     "metadata": {},
     "output_type": "execute_result"
    }
   ],
   "source": [
    "second_geo.head()"
   ]
  },
  {
   "cell_type": "code",
   "execution_count": 9,
   "metadata": {},
   "outputs": [],
   "source": [
    "third_geo['id'] = range(len(third_geo))"
   ]
  },
  {
   "cell_type": "code",
   "execution_count": 10,
   "metadata": {},
   "outputs": [],
   "source": [
    "third_geo['product'] = third_geo['product'].apply(pd.to_numeric).astype('int')"
   ]
  },
  {
   "cell_type": "code",
   "execution_count": 11,
   "metadata": {},
   "outputs": [
    {
     "data": {
      "text/html": [
       "<div>\n",
       "<style scoped>\n",
       "    .dataframe tbody tr th:only-of-type {\n",
       "        vertical-align: middle;\n",
       "    }\n",
       "\n",
       "    .dataframe tbody tr th {\n",
       "        vertical-align: top;\n",
       "    }\n",
       "\n",
       "    .dataframe thead th {\n",
       "        text-align: right;\n",
       "    }\n",
       "</style>\n",
       "<table border=\"1\" class=\"dataframe\">\n",
       "  <thead>\n",
       "    <tr style=\"text-align: right;\">\n",
       "      <th></th>\n",
       "      <th>id</th>\n",
       "      <th>f0</th>\n",
       "      <th>f1</th>\n",
       "      <th>f2</th>\n",
       "      <th>product</th>\n",
       "    </tr>\n",
       "  </thead>\n",
       "  <tbody>\n",
       "    <tr>\n",
       "      <th>0</th>\n",
       "      <td>0</td>\n",
       "      <td>-1.146987</td>\n",
       "      <td>0.963328</td>\n",
       "      <td>-0.828965</td>\n",
       "      <td>27</td>\n",
       "    </tr>\n",
       "    <tr>\n",
       "      <th>1</th>\n",
       "      <td>1</td>\n",
       "      <td>0.262778</td>\n",
       "      <td>0.269839</td>\n",
       "      <td>-2.530187</td>\n",
       "      <td>56</td>\n",
       "    </tr>\n",
       "    <tr>\n",
       "      <th>2</th>\n",
       "      <td>2</td>\n",
       "      <td>0.194587</td>\n",
       "      <td>0.289035</td>\n",
       "      <td>-5.586433</td>\n",
       "      <td>62</td>\n",
       "    </tr>\n",
       "    <tr>\n",
       "      <th>3</th>\n",
       "      <td>3</td>\n",
       "      <td>2.236060</td>\n",
       "      <td>-0.553760</td>\n",
       "      <td>0.930038</td>\n",
       "      <td>114</td>\n",
       "    </tr>\n",
       "    <tr>\n",
       "      <th>4</th>\n",
       "      <td>4</td>\n",
       "      <td>-0.515993</td>\n",
       "      <td>1.716266</td>\n",
       "      <td>5.899011</td>\n",
       "      <td>149</td>\n",
       "    </tr>\n",
       "  </tbody>\n",
       "</table>\n",
       "</div>"
      ],
      "text/plain": [
       "   id        f0        f1        f2  product\n",
       "0   0 -1.146987  0.963328 -0.828965       27\n",
       "1   1  0.262778  0.269839 -2.530187       56\n",
       "2   2  0.194587  0.289035 -5.586433       62\n",
       "3   3  2.236060 -0.553760  0.930038      114\n",
       "4   4 -0.515993  1.716266  5.899011      149"
      ]
     },
     "execution_count": 11,
     "metadata": {},
     "output_type": "execute_result"
    }
   ],
   "source": [
    "third_geo.head()"
   ]
  },
  {
   "cell_type": "markdown",
   "metadata": {},
   "source": [
    "While looking through the data in regions I decided that the best course of action would be to change the values in the \"product\" category from floats to ints given that they are supposed to represent thousands of barrels. For the values in the id column I decided to change the values into  sequential numbers as opposed to the sequences of seemingly random letters they were prior.  \n",
    "I felt it would work better for readabilty/usage of the information"
   ]
  },
  {
   "cell_type": "markdown",
   "metadata": {},
   "source": [
    "<div class=\"alert alert-success\">\n",
    "<b>Reviewer's comment</b>\n",
    "\n",
    "Okay, as you wish:)\n",
    "\n",
    "</div>"
   ]
  },
  {
   "cell_type": "markdown",
   "metadata": {},
   "source": [
    "---"
   ]
  },
  {
   "cell_type": "markdown",
   "metadata": {},
   "source": [
    "## Train and Test the Model for Each Region"
   ]
  },
  {
   "cell_type": "markdown",
   "metadata": {},
   "source": [
    "### Split the data into a training set"
   ]
  },
  {
   "cell_type": "code",
   "execution_count": 12,
   "metadata": {},
   "outputs": [],
   "source": [
    "first_geo_train, first_geo_valid = train_test_split(first_geo, test_size=0.25, random_state=12345)"
   ]
  },
  {
   "cell_type": "code",
   "execution_count": 13,
   "metadata": {},
   "outputs": [],
   "source": [
    "second_geo_train, second_geo_valid = train_test_split(second_geo, test_size=0.25, random_state=12345)"
   ]
  },
  {
   "cell_type": "code",
   "execution_count": 14,
   "metadata": {},
   "outputs": [],
   "source": [
    "third_geo_train, third_geo_valid = train_test_split(third_geo, test_size=0.25, random_state=12345)"
   ]
  },
  {
   "cell_type": "markdown",
   "metadata": {},
   "source": [
    "### Train the Model and Make Predictions for the Validation Set"
   ]
  },
  {
   "cell_type": "markdown",
   "metadata": {},
   "source": [
    "**Region One**"
   ]
  },
  {
   "cell_type": "code",
   "execution_count": 15,
   "metadata": {},
   "outputs": [],
   "source": [
    "#Creating features and target\n",
    "first_features_train = first_geo_train[['f0', 'f1', 'f2']]\n",
    "first_target_train = first_geo_train['product']\n",
    "first_features_valid = first_geo_valid[['f0', 'f1','f2']]\n",
    "first_target_valid = first_geo_valid['product']"
   ]
  },
  {
   "cell_type": "code",
   "execution_count": 16,
   "metadata": {},
   "outputs": [
    {
     "name": "stdout",
     "output_type": "stream",
     "text": [
      "Predictions: [ 95.39556718  77.07497435  77.39534406 ...  61.01352027 117.67888826\n",
      " 117.66768531]\n"
     ]
    }
   ],
   "source": [
    "#Training the model\n",
    "first_model = LinearRegression()\n",
    "first_model.fit(first_features_train, first_target_train)\n",
    "\n",
    "#Making predictions\n",
    "first_predictions = first_model.predict(first_features_valid)\n",
    "print(f\"Predictions: {first_predictions}\")"
   ]
  },
  {
   "cell_type": "markdown",
   "metadata": {},
   "source": [
    "**Region Two**"
   ]
  },
  {
   "cell_type": "code",
   "execution_count": 17,
   "metadata": {},
   "outputs": [],
   "source": [
    "#Creating features and target\n",
    "second_features_train = second_geo_train[['f0', 'f1', 'f2']]\n",
    "second_target_train = second_geo_train['product']\n",
    "second_features_valid = second_geo_valid[['f0', 'f1','f2']]\n",
    "second_target_valid = second_geo_valid['product']"
   ]
  },
  {
   "cell_type": "code",
   "execution_count": 18,
   "metadata": {},
   "outputs": [
    {
     "name": "stdout",
     "output_type": "stream",
     "text": [
      "Predictions: [ 82.05169478  53.85279454  29.51321445 ... 137.13123348  83.23555971\n",
      "  53.33610627]\n"
     ]
    }
   ],
   "source": [
    "#Training the model\n",
    "second_model = LinearRegression()\n",
    "second_model.fit(second_features_train, second_target_train)\n",
    "\n",
    "#Making predictions\n",
    "second_predictions = second_model.predict(second_features_valid)\n",
    "print(f\"Predictions: {second_predictions}\")"
   ]
  },
  {
   "cell_type": "markdown",
   "metadata": {},
   "source": [
    "**Region Three**"
   ]
  },
  {
   "cell_type": "code",
   "execution_count": 19,
   "metadata": {},
   "outputs": [],
   "source": [
    "#Creating features and target\n",
    "third_features_train = third_geo_train[['f0', 'f1', 'f2']]\n",
    "third_target_train = third_geo_train['product']\n",
    "third_features_valid = third_geo_valid[['f0', 'f1','f2']]\n",
    "third_target_valid = third_geo_valid['product']"
   ]
  },
  {
   "cell_type": "code",
   "execution_count": 20,
   "metadata": {},
   "outputs": [
    {
     "name": "stdout",
     "output_type": "stream",
     "text": [
      "Predictions: [ 93.10469853  74.60562272  89.56787392 ...  98.91013164  77.28204128\n",
      " 128.53552027]\n"
     ]
    }
   ],
   "source": [
    "#Training the model\n",
    "third_model = LinearRegression()\n",
    "third_model.fit(third_features_train, third_target_train)\n",
    "\n",
    "#Making predictions\n",
    "third_predictions = third_model.predict(third_features_valid)\n",
    "print(f\"Predictions: {third_predictions}\")"
   ]
  },
  {
   "cell_type": "markdown",
   "metadata": {},
   "source": [
    "### Save the Predictions and Correct Answers for the Validation Set"
   ]
  },
  {
   "cell_type": "code",
   "execution_count": 32,
   "metadata": {},
   "outputs": [],
   "source": [
    "#Saving predictions and correct answers for the Validation set \n",
    "results_df = pd.DataFrame({\n",
    "    'First Predictions': first_predictions,\n",
    "    'First Answers': first_target_valid,\n",
    "    'Second Predictions': second_predictions,\n",
    "    'Second Answers': second_target_valid,\n",
    "    'Third Predictions': third_predictions,\n",
    "    'Third Answers': third_target_valid\n",
    "})"
   ]
  },
  {
   "cell_type": "code",
   "execution_count": 33,
   "metadata": {},
   "outputs": [
    {
     "data": {
      "text/html": [
       "<div>\n",
       "<style scoped>\n",
       "    .dataframe tbody tr th:only-of-type {\n",
       "        vertical-align: middle;\n",
       "    }\n",
       "\n",
       "    .dataframe tbody tr th {\n",
       "        vertical-align: top;\n",
       "    }\n",
       "\n",
       "    .dataframe thead th {\n",
       "        text-align: right;\n",
       "    }\n",
       "</style>\n",
       "<table border=\"1\" class=\"dataframe\">\n",
       "  <thead>\n",
       "    <tr style=\"text-align: right;\">\n",
       "      <th></th>\n",
       "      <th>First Predictions</th>\n",
       "      <th>First Answers</th>\n",
       "      <th>Second Predictions</th>\n",
       "      <th>Second Answers</th>\n",
       "      <th>Third Predictions</th>\n",
       "      <th>Third Answers</th>\n",
       "    </tr>\n",
       "  </thead>\n",
       "  <tbody>\n",
       "    <tr>\n",
       "      <th>71751</th>\n",
       "      <td>95.395567</td>\n",
       "      <td>10</td>\n",
       "      <td>82.051695</td>\n",
       "      <td>80</td>\n",
       "      <td>93.104699</td>\n",
       "      <td>61</td>\n",
       "    </tr>\n",
       "    <tr>\n",
       "      <th>80493</th>\n",
       "      <td>77.074974</td>\n",
       "      <td>114</td>\n",
       "      <td>53.852795</td>\n",
       "      <td>53</td>\n",
       "      <td>74.605623</td>\n",
       "      <td>41</td>\n",
       "    </tr>\n",
       "    <tr>\n",
       "      <th>2655</th>\n",
       "      <td>77.395344</td>\n",
       "      <td>132</td>\n",
       "      <td>29.513214</td>\n",
       "      <td>30</td>\n",
       "      <td>89.567874</td>\n",
       "      <td>57</td>\n",
       "    </tr>\n",
       "    <tr>\n",
       "      <th>53233</th>\n",
       "      <td>89.676522</td>\n",
       "      <td>169</td>\n",
       "      <td>52.881814</td>\n",
       "      <td>53</td>\n",
       "      <td>104.664264</td>\n",
       "      <td>100</td>\n",
       "    </tr>\n",
       "    <tr>\n",
       "      <th>91141</th>\n",
       "      <td>70.012879</td>\n",
       "      <td>122</td>\n",
       "      <td>0.956905</td>\n",
       "      <td>0</td>\n",
       "      <td>114.801980</td>\n",
       "      <td>109</td>\n",
       "    </tr>\n",
       "    <tr>\n",
       "      <th>...</th>\n",
       "      <td>...</td>\n",
       "      <td>...</td>\n",
       "      <td>...</td>\n",
       "      <td>...</td>\n",
       "      <td>...</td>\n",
       "      <td>...</td>\n",
       "    </tr>\n",
       "    <tr>\n",
       "      <th>12581</th>\n",
       "      <td>102.536975</td>\n",
       "      <td>170</td>\n",
       "      <td>136.045430</td>\n",
       "      <td>137</td>\n",
       "      <td>78.267616</td>\n",
       "      <td>28</td>\n",
       "    </tr>\n",
       "    <tr>\n",
       "      <th>18456</th>\n",
       "      <td>84.904735</td>\n",
       "      <td>93</td>\n",
       "      <td>110.075624</td>\n",
       "      <td>110</td>\n",
       "      <td>95.105076</td>\n",
       "      <td>21</td>\n",
       "    </tr>\n",
       "    <tr>\n",
       "      <th>73035</th>\n",
       "      <td>61.013520</td>\n",
       "      <td>127</td>\n",
       "      <td>137.131233</td>\n",
       "      <td>137</td>\n",
       "      <td>98.910132</td>\n",
       "      <td>125</td>\n",
       "    </tr>\n",
       "    <tr>\n",
       "      <th>63834</th>\n",
       "      <td>117.678888</td>\n",
       "      <td>99</td>\n",
       "      <td>83.235560</td>\n",
       "      <td>84</td>\n",
       "      <td>77.282041</td>\n",
       "      <td>99</td>\n",
       "    </tr>\n",
       "    <tr>\n",
       "      <th>43558</th>\n",
       "      <td>117.667685</td>\n",
       "      <td>177</td>\n",
       "      <td>53.336106</td>\n",
       "      <td>53</td>\n",
       "      <td>128.535520</td>\n",
       "      <td>127</td>\n",
       "    </tr>\n",
       "  </tbody>\n",
       "</table>\n",
       "<p>25000 rows × 6 columns</p>\n",
       "</div>"
      ],
      "text/plain": [
       "       First Predictions  First Answers  Second Predictions  Second Answers  \\\n",
       "71751          95.395567             10           82.051695              80   \n",
       "80493          77.074974            114           53.852795              53   \n",
       "2655           77.395344            132           29.513214              30   \n",
       "53233          89.676522            169           52.881814              53   \n",
       "91141          70.012879            122            0.956905               0   \n",
       "...                  ...            ...                 ...             ...   \n",
       "12581         102.536975            170          136.045430             137   \n",
       "18456          84.904735             93          110.075624             110   \n",
       "73035          61.013520            127          137.131233             137   \n",
       "63834         117.678888             99           83.235560              84   \n",
       "43558         117.667685            177           53.336106              53   \n",
       "\n",
       "       Third Predictions  Third Answers  \n",
       "71751          93.104699             61  \n",
       "80493          74.605623             41  \n",
       "2655           89.567874             57  \n",
       "53233         104.664264            100  \n",
       "91141         114.801980            109  \n",
       "...                  ...            ...  \n",
       "12581          78.267616             28  \n",
       "18456          95.105076             21  \n",
       "73035          98.910132            125  \n",
       "63834          77.282041             99  \n",
       "43558         128.535520            127  \n",
       "\n",
       "[25000 rows x 6 columns]"
      ]
     },
     "execution_count": 33,
     "metadata": {},
     "output_type": "execute_result"
    }
   ],
   "source": [
    "results_df"
   ]
  },
  {
   "cell_type": "markdown",
   "metadata": {},
   "source": [
    "### Print the Average Volume of Predicted Reserves and Model RMSE "
   ]
  },
  {
   "cell_type": "code",
   "execution_count": 42,
   "metadata": {},
   "outputs": [
    {
     "name": "stdout",
     "output_type": "stream",
     "text": [
      "Average Volume of Predicted Reserves: First Predictions     92.093398\n",
      "Second Predictions    68.173200\n",
      "Third Predictions     94.467429\n",
      "dtype: float64\n",
      "Model RMSE: 26.211658349702986\n"
     ]
    }
   ],
   "source": [
    "avg_vol = results_df[['First Predictions', 'Second Predictions', 'Third Predictions']].mean()\n",
    "\n",
    "\n",
    "# Calculate RMSE for each set of predictions\n",
    "first_rmse = np.sqrt(mean_squared_error(first_target_valid, first_predictions))\n",
    "second_rmse = np.sqrt(mean_squared_error(second_target_valid, second_predictions))\n",
    "third_rmse = np.sqrt(mean_squared_error(third_target_valid, third_predictions))\n",
    "\n",
    "# Calculate the overall RMSE\n",
    "overall_rmse = np.mean([first_rmse, second_rmse, third_rmse])\n",
    "\n",
    "print(f\"Average Volume of Predicted Reserves: {avg_vol}\")\n",
    "print(f\"Model RMSE: {overall_rmse}\")"
   ]
  },
  {
   "cell_type": "markdown",
   "metadata": {},
   "source": [
    "<div class=\"alert alert-danger\">\n",
    "<b>Reviewer's comment</b>\n",
    "\n",
    "It's not the best idea to average rmse among different regions. Maybe in one region the model works really good and make predictions without mistakes but in two other regions the model works really bad. But you can't see that due to averaging.\n",
    "\n",
    "</div>"
   ]
  },
  {
   "cell_type": "markdown",
   "metadata": {},
   "source": [
    "<div class=\"alert alert-warning\">\n",
    "<b>Reviewer's comment V2</b>\n",
    "\n",
    "It seems you missed my previous comment:) You need to print rmse for each region separately.\n",
    "\n",
    "</div>"
   ]
  },
  {
   "cell_type": "markdown",
   "metadata": {},
   "source": [
    "### Analyze the Results"
   ]
  },
  {
   "cell_type": "markdown",
   "metadata": {},
   "source": [
    "**Average Volume of Predicted Reserves**  \n",
    "The average volumes of predicted reserves for each set of predictions are:  \n",
    "\n",
    "* **First Predictions**: 92.09  \n",
    "* **Second Predictions**: 68.17  \n",
    "* **Third Predictions**: 94.47  \n",
    "\n",
    "These values indicate the mean predicted reserves for each model. The second model’s predictions are notably lower than the first and third models.  \n",
    "\n",
    "**Root Mean Squared Error (RMSE)**  \n",
    "The RMSE values for each set of predictions are calculated as follows:  \n",
    "\n",
    "* RMSE for First Predictions: This measures the average magnitude of the errors between the first set of predictions and the actual answers.\n",
    "* RMSE for Second Predictions: This measures the average magnitude of the errors between the second set of predictions and the actual answers.\n",
    "* RMSE for Third Predictions: This measures the average magnitude of the errors between the third set of predictions and the actual answers.\n",
    "**Overall RMSE**  \n",
    "The overall RMSE is the mean of the RMSE values for the three sets of predictions:\n",
    "\n",
    "* **Overall RMSE**: 26.21  \n",
    "\n",
    "**Interpretation**  \n",
    "* **Prediction Accuracy**: The overall RMSE of 26.21 suggests that, on average, the predictions are off by about 26.21 units from the actual values. This gives you an idea of the prediction accuracy of your models.\n",
    "* **Model Comparison**: The average volumes and RMSE values can help you compare the performance of the three models. If the RMSE values for each set of predictions are significantly different, it might indicate that one model is performing better or worse than the others.\n",
    "* **Model Improvement**: If the RMSE values are higher than desired, you might consider further tuning your models, using different features, or trying other machine learning algorithms to improve prediction accuracy."
   ]
  },
  {
   "cell_type": "markdown",
   "metadata": {},
   "source": [
    "---"
   ]
  },
  {
   "cell_type": "markdown",
   "metadata": {},
   "source": [
    "## Prepare for Profit Calculation"
   ]
  },
  {
   "cell_type": "markdown",
   "metadata": {},
   "source": [
    "### Store All Key Values for Calculations in Separate Variables"
   ]
  },
  {
   "cell_type": "markdown",
   "metadata": {},
   "source": [
    "### Calculate the Volume of Reserves Sufficient for Developing a New Well Without Losses"
   ]
  },
  {
   "cell_type": "code",
   "execution_count": 43,
   "metadata": {},
   "outputs": [],
   "source": [
    "# Storing key values\n",
    "avg_vol_first = avg_vol['First Predictions']\n",
    "avg_vol_second = avg_vol['Second Predictions']\n",
    "avg_vol_third = avg_vol['Third Predictions']\n",
    "\n",
    "#Other key values are already stored"
   ]
  },
  {
   "cell_type": "code",
   "execution_count": 58,
   "metadata": {},
   "outputs": [],
   "source": [
    "# Define cost and profit per unit\n",
    "budget = 100_000_000  # $100,000,000\n",
    "num_wells = 200\n",
    "cost_per_well = budget / num_wells  # Cost per well\n",
    "\n",
    "# Revenue per unit of reserves\n",
    "revenue_per_unit = 4500  # $4,500\n",
    "\n",
    "# Calculate break-even volume of reserves\n",
    "break_even_volume = cost_per_well / revenue_per_unit\n"
   ]
  },
  {
   "cell_type": "code",
   "execution_count": 59,
   "metadata": {},
   "outputs": [],
   "source": [
    "# Compare break-even volume with average volumes\n",
    "comparison_first = avg_vol_first >= break_even_volume\n",
    "comparison_second = avg_vol_second >= break_even_volume\n",
    "comparison_third = avg_vol_third >= break_even_volume\n"
   ]
  },
  {
   "cell_type": "markdown",
   "metadata": {},
   "source": [
    "### Provide the Findings About the Preparation for Profit Calculation Step"
   ]
  },
  {
   "cell_type": "code",
   "execution_count": 41,
   "metadata": {},
   "outputs": [
    {
     "name": "stdout",
     "output_type": "stream",
     "text": [
      "Break-even volume of reserves: 111.11111111111111 units\n",
      "Average Volume of Predicted Reserves (First Predictions): 92.09339782217532 units\n",
      "Average Volume of Predicted Reserves (Second Predictions): 68.17320024946817 units\n",
      "Average Volume of Predicted Reserves (Third Predictions): 94.46742884611454 units\n",
      "Is First Predictions' average volume sufficient? No\n",
      "Is Second Predictions' average volume sufficient? No\n",
      "Is Third Predictions' average volume sufficient? No\n"
     ]
    }
   ],
   "source": [
    "print(f\"Break-even volume of reserves: {break_even_volume} units\")\n",
    "\n",
    "print(f\"Average Volume of Predicted Reserves (First Predictions): {avg_vol_first} units\")\n",
    "print(f\"Average Volume of Predicted Reserves (Second Predictions): {avg_vol_second} units\")\n",
    "print(f\"Average Volume of Predicted Reserves (Third Predictions): {avg_vol_third} units\")\n",
    "\n",
    "print(f\"Is First Predictions' average volume sufficient? {'Yes' if comparison_first else 'No'}\")\n",
    "print(f\"Is Second Predictions' average volume sufficient? {'Yes' if comparison_second else 'No'}\")\n",
    "print(f\"Is Third Predictions' average volume sufficient? {'Yes' if comparison_third else 'No'}\")\n"
   ]
  },
  {
   "cell_type": "markdown",
   "metadata": {},
   "source": [
    "<div class=\"alert alert-success\">\n",
    "<b>Reviewer's comment</b>\n",
    "\n",
    "Correct. Good job!\n",
    "\n",
    "</div>"
   ]
  },
  {
   "cell_type": "markdown",
   "metadata": {},
   "source": [
    "## Write a Function a Calculate Profit From a Set of Selected Oil Wells and Model Predictions"
   ]
  },
  {
   "cell_type": "code",
   "execution_count": 68,
   "metadata": {},
   "outputs": [],
   "source": [
    "def calculate_profit(target, predictions):\n",
    "    predictions = pd.Series(predictions, index=target.index)\n",
    "    sorted_indices = predictions.sort_values(ascending=False).head(num_wells).index\n",
    "    top_wells = target.loc[sorted_indices]\n",
    "    target_reserves = target.loc[top_wells.index].sum()  # Getting the corresponding target reserves\n",
    "    revenue = target_reserves * revenue_per_unit\n",
    "    profit = revenue - budget\n",
    "    \n",
    "    return profit.round(2)"
   ]
  },
  {
   "cell_type": "code",
   "execution_count": 75,
   "metadata": {},
   "outputs": [
    {
     "name": "stdout",
     "output_type": "stream",
     "text": [
      "First Region top 200 wells predicted profit:32,763,500\n",
      "Second Region top 200 wells predicted profit:23,300,000\n",
      "Third Region top 200 wells predicted profit:26,657,000\n"
     ]
    }
   ],
   "source": [
    "first_target_valid = first_target_valid.reset_index(drop=True)\n",
    "second_target_valid = second_target_valid.reset_index(drop=True)\n",
    "third_target_valid = third_target_valid.reset_index(drop=True)\n",
    "\n",
    "print(f'First Region top 200 wells predicted profit:{calculate_profit(first_target_valid, first_predictions):,}')\n",
    "print(f'Second Region top 200 wells predicted profit:{calculate_profit(second_target_valid, second_predictions):,}')\n",
    "print(f'Third Region top 200 wells predicted profit:{calculate_profit(third_target_valid, third_predictions):,}')"
   ]
  },
  {
   "cell_type": "markdown",
   "metadata": {},
   "source": [
    "<div class=\"alert alert-danger\">\n",
    "<b>Reviewer's comment</b>\n",
    "\n",
    "Unfortunately, this function is incorrect. \n",
    "You should calculate profit using both predictions and targets. You need to pick the top wells using predictions but then you need to use corresponding targets to calculate the profit.\n",
    "    \n",
    "P.S. In the lesson you have very similar example about lessons and students.\n",
    "\n",
    "</div>"
   ]
  },
  {
   "cell_type": "markdown",
   "metadata": {},
   "source": [
    "<div class=\"alert alert-success\">\n",
    "<b>Reviewer's comment V2</b>\n",
    "\n",
    "Good job!\n",
    "\n",
    "</div>"
   ]
  },
  {
   "cell_type": "markdown",
   "metadata": {},
   "source": [
    "---"
   ]
  },
  {
   "cell_type": "markdown",
   "metadata": {},
   "source": [
    "## Calculate Risks and Profit for Each Region"
   ]
  },
  {
   "cell_type": "code",
   "execution_count": 71,
   "metadata": {},
   "outputs": [],
   "source": [
    "state = np.random.RandomState(12345)\n",
    "def bootstrap_profit(target, predictions, n_iterations=1000, sample_size=500):\n",
    "    profits = []\n",
    "    \n",
    "    predictions = pd.Series(predictions, index=target.index)\n",
    "    \n",
    "    for i in range(n_iterations):\n",
    "        sample_indices = np.random.choice(target.index, size=sample_size, replace=True)\n",
    "        sample_predictions = predictions[sample_indices]\n",
    "        sample_targets = target.loc[sample_indices]\n",
    "\n",
    "        profit = calculate_profit(sample_targets, sample_predictions)\n",
    "        profits.append(profit)\n",
    "    \n",
    "    profits = np.array(profits)\n",
    "    mean_profit = profits.mean()\n",
    "    confidence_interval = np.percentile(profits, [2.5, 97.5])\n",
    "    risk_of_loss = (profits < 0).mean()\n",
    "    \n",
    "    return mean_profit, confidence_interval, risk_of_loss"
   ]
  },
  {
   "cell_type": "code",
   "execution_count": 72,
   "metadata": {},
   "outputs": [],
   "source": [
    "predictions_one = pd.Series(first_predictions, index=first_target_valid.index)\n",
    "predictions_two = pd.Series(second_predictions, index=second_target_valid.index)\n",
    "predictions_three = pd.Series(third_predictions, index=third_target_valid.index)"
   ]
  },
  {
   "cell_type": "code",
   "execution_count": 73,
   "metadata": {},
   "outputs": [],
   "source": [
    "#First Region \n",
    "profit_one, ci_one, risk_one = bootstrap_profit(first_target_valid, predictions_one)\n",
    "#Second Region\n",
    "profit_two, ci_two, risk_two = bootstrap_profit(second_target_valid, predictions_two)\n",
    "#Third Region\n",
    "profit_three, ci_three, risk_three = bootstrap_profit(third_target_valid, predictions_three)"
   ]
  },
  {
   "cell_type": "code",
   "execution_count": 74,
   "metadata": {},
   "outputs": [
    {
     "name": "stdout",
     "output_type": "stream",
     "text": [
      "Region Profit One: Mean Profit: 9511469.0, 95% CI: [  797412.5        22427337.49999999], Risk of Loss: 1.50%\n",
      "Region G2: Mean Profit: 9933335.0, 95% CI: [ 1833200.  22503162.5], Risk of Loss: 0.40%\n",
      "Region G3: Mean Profit: 9257363.0, 95% CI: [  105987.5        20629812.49999999], Risk of Loss: 2.40%\n"
     ]
    }
   ],
   "source": [
    "# Print results\n",
    "print(f\"Region Profit One: Mean Profit: {profit_one}, 95% CI: {ci_one}, Risk of Loss: {risk_one*100:.2f}%\")\n",
    "print(f\"Region G2: Mean Profit: {profit_two}, 95% CI: {ci_two}, Risk of Loss: {risk_two*100:.2f}%\")\n",
    "print(f\"Region G3: Mean Profit: {profit_three}, 95% CI: {ci_three}, Risk of Loss: {risk_three*100:.2f}%\")"
   ]
  },
  {
   "cell_type": "markdown",
   "metadata": {},
   "source": [
    "<div class=\"alert alert-danger\">\n",
    "<b>Reviewer's comment</b>\n",
    "\n",
    "The results are incorrect due two reasons:\n",
    "1. The function calculate_profit is not correct\n",
    "2. According to the project description in the bootstrap you should sample with n=500\n",
    "    \n",
    "What is about a conclusion?\n",
    "  \n",
    "\n",
    "</div>"
   ]
  },
  {
   "cell_type": "markdown",
   "metadata": {},
   "source": [
    "<div class=\"alert alert-success\">\n",
    "<b>Reviewer's comment V2</b>\n",
    "\n",
    "Everything is correct. Well done!\n",
    "\n",
    "</div>"
   ]
  },
  {
   "cell_type": "markdown",
   "metadata": {},
   "source": [
    "# Conclusion"
   ]
  },
  {
   "cell_type": "markdown",
   "metadata": {},
   "source": [
    "In this project, our objective was to identify the optimal location for a new oil well. This was achieved by gathering critical oil well parameters, which were used to develop predictive models forecasting the volume of reserves in prospective wells. The models' performance was evaluated through analysis of average volumes of predicted reserves and Root Mean Squared Error (RMSE).  \n",
    "\n",
    "The first, second, and third sets of predictions had mean values of 92.09, 68.17, and 94.47 units respectively. Unfortunately, none of these predictions met the break-even volume of reserves of 111.11 units. Despite this, the top 200 wells in each region yielded significant predicted profits, with the first region leading at $32,763,500.  \n",
    "\n",
    "A risk analysis using the Bootstrapping technique revealed that the second region had the lowest risk of loss, standing at 0.40%, despite not having the highest predicted profit.  \n",
    "\n",
    "Throughout this project, we've carefully analyzed data, built and evaluated models, while also considering potential profits and risks. Our research will significantly contribute to OilyGiant's strategic decision-making and operational success."
   ]
  }
 ],
 "metadata": {
  "ExecuteTimeLog": [
   {
    "duration": 1229,
    "start_time": "2024-08-14T16:32:33.407Z"
   },
   {
    "duration": 457,
    "start_time": "2024-08-14T16:33:53.647Z"
   },
   {
    "duration": 18,
    "start_time": "2024-08-14T16:33:59.454Z"
   },
   {
    "duration": 12,
    "start_time": "2024-08-14T16:34:09.915Z"
   },
   {
    "duration": 12,
    "start_time": "2024-08-14T16:34:18.127Z"
   },
   {
    "duration": 13,
    "start_time": "2024-08-14T16:34:22.228Z"
   },
   {
    "duration": 1244,
    "start_time": "2024-08-16T13:27:21.437Z"
   },
   {
    "duration": 505,
    "start_time": "2024-08-16T13:27:24.776Z"
   },
   {
    "duration": 19,
    "start_time": "2024-08-16T13:27:25.285Z"
   },
   {
    "duration": 12,
    "start_time": "2024-08-16T13:27:27.662Z"
   },
   {
    "duration": 14,
    "start_time": "2024-08-16T13:27:27.822Z"
   },
   {
    "duration": 5,
    "start_time": "2024-08-16T13:40:48.375Z"
   },
   {
    "duration": 261,
    "start_time": "2024-08-16T13:42:53.995Z"
   },
   {
    "duration": 19,
    "start_time": "2024-08-16T13:42:55.862Z"
   },
   {
    "duration": 246,
    "start_time": "2024-08-16T13:43:16.614Z"
   },
   {
    "duration": 14,
    "start_time": "2024-08-16T13:43:17.942Z"
   },
   {
    "duration": 237,
    "start_time": "2024-08-16T13:44:01.143Z"
   },
   {
    "duration": 13,
    "start_time": "2024-08-16T13:44:02.705Z"
   },
   {
    "duration": 416,
    "start_time": "2024-08-16T14:18:27.388Z"
   },
   {
    "duration": 25,
    "start_time": "2024-08-16T14:18:37.222Z"
   },
   {
    "duration": 18,
    "start_time": "2024-08-16T14:18:42.132Z"
   },
   {
    "duration": 21,
    "start_time": "2024-08-16T14:18:45.917Z"
   },
   {
    "duration": 26,
    "start_time": "2024-08-16T14:20:25.704Z"
   },
   {
    "duration": 260,
    "start_time": "2024-08-16T14:20:26.478Z"
   },
   {
    "duration": 16,
    "start_time": "2024-08-16T14:20:26.744Z"
   },
   {
    "duration": 24,
    "start_time": "2024-08-16T14:20:49.122Z"
   },
   {
    "duration": 241,
    "start_time": "2024-08-16T14:20:49.817Z"
   },
   {
    "duration": 14,
    "start_time": "2024-08-16T14:20:50.061Z"
   },
   {
    "duration": 282,
    "start_time": "2024-08-16T14:21:42.258Z"
   },
   {
    "duration": 20,
    "start_time": "2024-08-16T14:21:42.544Z"
   },
   {
    "duration": 5,
    "start_time": "2024-08-16T14:30:37.794Z"
   },
   {
    "duration": 19,
    "start_time": "2024-08-16T14:39:31.777Z"
   },
   {
    "duration": 20,
    "start_time": "2024-08-16T14:39:58.632Z"
   },
   {
    "duration": 20,
    "start_time": "2024-08-16T14:40:42.532Z"
   },
   {
    "duration": 9,
    "start_time": "2024-08-16T15:15:43.752Z"
   },
   {
    "duration": 13,
    "start_time": "2024-08-16T15:16:02.232Z"
   },
   {
    "duration": 3,
    "start_time": "2024-08-16T15:16:10.837Z"
   },
   {
    "duration": 18,
    "start_time": "2024-08-16T15:17:16.027Z"
   },
   {
    "duration": 36,
    "start_time": "2024-08-16T15:18:32.495Z"
   },
   {
    "duration": 26,
    "start_time": "2024-08-16T15:18:39.955Z"
   },
   {
    "duration": 22,
    "start_time": "2024-08-16T15:18:51.088Z"
   },
   {
    "duration": 9,
    "start_time": "2024-08-16T15:21:18.582Z"
   },
   {
    "duration": 20,
    "start_time": "2024-08-16T15:21:19.267Z"
   },
   {
    "duration": 9,
    "start_time": "2024-08-16T15:22:02.169Z"
   },
   {
    "duration": 19,
    "start_time": "2024-08-16T15:22:02.452Z"
   },
   {
    "duration": 1233,
    "start_time": "2024-08-18T12:19:55.173Z"
   },
   {
    "duration": 499,
    "start_time": "2024-08-18T12:19:56.411Z"
   },
   {
    "duration": 21,
    "start_time": "2024-08-18T12:19:56.913Z"
   },
   {
    "duration": 252,
    "start_time": "2024-08-18T12:19:56.939Z"
   },
   {
    "duration": 26,
    "start_time": "2024-08-18T12:19:57.195Z"
   },
   {
    "duration": 20,
    "start_time": "2024-08-18T12:19:57.224Z"
   },
   {
    "duration": 259,
    "start_time": "2024-08-18T12:19:57.247Z"
   },
   {
    "duration": 13,
    "start_time": "2024-08-18T12:19:57.509Z"
   },
   {
    "duration": 20,
    "start_time": "2024-08-18T12:19:57.525Z"
   },
   {
    "duration": 262,
    "start_time": "2024-08-18T12:19:57.549Z"
   },
   {
    "duration": 12,
    "start_time": "2024-08-18T12:19:57.813Z"
   },
   {
    "duration": 18,
    "start_time": "2024-08-18T12:19:57.828Z"
   },
   {
    "duration": 17,
    "start_time": "2024-08-18T12:19:57.849Z"
   },
   {
    "duration": 18,
    "start_time": "2024-08-18T12:19:57.901Z"
   },
   {
    "duration": 10,
    "start_time": "2024-08-18T12:19:57.921Z"
   },
   {
    "duration": 67,
    "start_time": "2024-08-18T12:19:57.934Z"
   },
   {
    "duration": 9,
    "start_time": "2024-08-18T12:19:58.005Z"
   },
   {
    "duration": 86,
    "start_time": "2024-08-18T12:19:58.017Z"
   },
   {
    "duration": 10,
    "start_time": "2024-08-18T12:19:58.107Z"
   },
   {
    "duration": 17,
    "start_time": "2024-08-18T12:19:58.201Z"
   },
   {
    "duration": 10,
    "start_time": "2024-08-18T13:31:26.308Z"
   },
   {
    "duration": 19,
    "start_time": "2024-08-18T13:31:35.239Z"
   },
   {
    "duration": 7,
    "start_time": "2024-08-18T13:31:51.707Z"
   },
   {
    "duration": 21,
    "start_time": "2024-08-18T13:31:54.710Z"
   },
   {
    "duration": 21,
    "start_time": "2024-08-18T15:02:16.927Z"
   },
   {
    "duration": 7,
    "start_time": "2024-08-18T15:26:04.933Z"
   },
   {
    "duration": 7,
    "start_time": "2024-08-18T15:26:08.098Z"
   },
   {
    "duration": 7,
    "start_time": "2024-08-18T15:26:17.307Z"
   },
   {
    "duration": 6,
    "start_time": "2024-08-18T15:26:21.567Z"
   },
   {
    "duration": 424,
    "start_time": "2024-08-18T15:32:37.747Z"
   },
   {
    "duration": 6,
    "start_time": "2024-08-18T15:32:45.968Z"
   },
   {
    "duration": 32,
    "start_time": "2024-08-18T15:32:49.388Z"
   },
   {
    "duration": 31,
    "start_time": "2024-08-18T15:34:14.808Z"
   },
   {
    "duration": 32,
    "start_time": "2024-08-18T15:34:20.147Z"
   },
   {
    "duration": 31,
    "start_time": "2024-08-18T15:34:27.902Z"
   },
   {
    "duration": 42,
    "start_time": "2024-08-18T15:34:35.252Z"
   },
   {
    "duration": 14,
    "start_time": "2024-08-18T15:34:41.455Z"
   },
   {
    "duration": 10,
    "start_time": "2024-08-18T19:42:43.772Z"
   },
   {
    "duration": 6,
    "start_time": "2024-08-18T19:44:16.927Z"
   },
   {
    "duration": 4,
    "start_time": "2024-08-18T19:44:34.657Z"
   },
   {
    "duration": 5,
    "start_time": "2024-08-18T19:45:18.162Z"
   },
   {
    "duration": 13,
    "start_time": "2024-08-18T20:01:26.754Z"
   },
   {
    "duration": 15,
    "start_time": "2024-08-18T20:02:56.208Z"
   },
   {
    "duration": 20,
    "start_time": "2024-08-18T20:04:14.603Z"
   },
   {
    "duration": 721,
    "start_time": "2024-08-18T20:07:20.283Z"
   },
   {
    "duration": 11569,
    "start_time": "2024-08-18T20:09:30.292Z"
   },
   {
    "duration": 11394,
    "start_time": "2024-08-18T20:13:09.942Z"
   },
   {
    "duration": 307,
    "start_time": "2024-08-18T20:22:43.694Z"
   },
   {
    "duration": 4,
    "start_time": "2024-08-18T20:22:45.194Z"
   },
   {
    "duration": 8,
    "start_time": "2024-08-18T20:22:45.338Z"
   },
   {
    "duration": 314,
    "start_time": "2024-08-19T11:44:36.710Z"
   },
   {
    "duration": 1181,
    "start_time": "2024-08-19T11:44:44.841Z"
   },
   {
    "duration": 493,
    "start_time": "2024-08-19T11:44:46.922Z"
   },
   {
    "duration": 21,
    "start_time": "2024-08-19T11:44:48.021Z"
   },
   {
    "duration": 221,
    "start_time": "2024-08-19T11:44:48.213Z"
   },
   {
    "duration": 19,
    "start_time": "2024-08-19T11:44:52.341Z"
   },
   {
    "duration": 222,
    "start_time": "2024-08-19T11:44:52.483Z"
   },
   {
    "duration": 18,
    "start_time": "2024-08-19T11:44:52.921Z"
   },
   {
    "duration": 21,
    "start_time": "2024-08-19T11:44:56.200Z"
   },
   {
    "duration": 221,
    "start_time": "2024-08-19T11:44:56.340Z"
   },
   {
    "duration": 12,
    "start_time": "2024-08-19T11:44:56.605Z"
   },
   {
    "duration": 16,
    "start_time": "2024-08-19T11:45:00.676Z"
   },
   {
    "duration": 17,
    "start_time": "2024-08-19T11:45:00.975Z"
   },
   {
    "duration": 17,
    "start_time": "2024-08-19T11:45:01.301Z"
   },
   {
    "duration": 8,
    "start_time": "2024-08-19T11:45:03.386Z"
   },
   {
    "duration": 21,
    "start_time": "2024-08-19T11:45:03.861Z"
   },
   {
    "duration": 7,
    "start_time": "2024-08-19T11:45:06.181Z"
   },
   {
    "duration": 15,
    "start_time": "2024-08-19T11:45:06.424Z"
   },
   {
    "duration": 7,
    "start_time": "2024-08-19T11:45:08.760Z"
   },
   {
    "duration": 16,
    "start_time": "2024-08-19T11:45:08.921Z"
   },
   {
    "duration": 7,
    "start_time": "2024-08-19T11:45:10.840Z"
   },
   {
    "duration": 21,
    "start_time": "2024-08-19T11:45:13.461Z"
   },
   {
    "duration": 276,
    "start_time": "2024-08-19T11:45:26.361Z"
   },
   {
    "duration": 6,
    "start_time": "2024-08-19T11:46:23.661Z"
   },
   {
    "duration": 13,
    "start_time": "2024-08-19T11:46:26.451Z"
   },
   {
    "duration": 6,
    "start_time": "2024-08-19T11:46:31.941Z"
   },
   {
    "duration": 19,
    "start_time": "2024-08-19T11:46:32.941Z"
   },
   {
    "duration": 4,
    "start_time": "2024-08-19T11:52:27.041Z"
   },
   {
    "duration": 7,
    "start_time": "2024-08-19T11:56:27.741Z"
   },
   {
    "duration": 13,
    "start_time": "2024-08-19T11:56:31.001Z"
   },
   {
    "duration": 70,
    "start_time": "2024-08-19T11:56:35.921Z"
   },
   {
    "duration": 7,
    "start_time": "2024-08-19T11:57:31.720Z"
   },
   {
    "duration": 20,
    "start_time": "2024-08-19T11:57:34.801Z"
   },
   {
    "duration": 21,
    "start_time": "2024-08-19T11:58:24.881Z"
   },
   {
    "duration": 9,
    "start_time": "2024-08-19T11:59:30.666Z"
   },
   {
    "duration": 13,
    "start_time": "2024-08-19T11:59:36.961Z"
   },
   {
    "duration": 12,
    "start_time": "2024-08-19T12:00:02.421Z"
   },
   {
    "duration": 30,
    "start_time": "2024-08-19T12:38:48.165Z"
   },
   {
    "duration": 30,
    "start_time": "2024-08-19T12:39:06.876Z"
   },
   {
    "duration": 31,
    "start_time": "2024-08-19T12:39:45.541Z"
   },
   {
    "duration": 31,
    "start_time": "2024-08-19T12:39:56.161Z"
   },
   {
    "duration": 13,
    "start_time": "2024-08-19T12:40:02.261Z"
   },
   {
    "duration": 4,
    "start_time": "2024-08-19T12:58:14.821Z"
   },
   {
    "duration": 4,
    "start_time": "2024-08-19T13:06:12.877Z"
   },
   {
    "duration": 7,
    "start_time": "2024-08-19T13:07:39.242Z"
   },
   {
    "duration": 6,
    "start_time": "2024-08-19T13:07:42.104Z"
   },
   {
    "duration": 48,
    "start_time": "2024-08-19T13:13:19.721Z"
   },
   {
    "duration": 7,
    "start_time": "2024-08-19T13:17:48.731Z"
   },
   {
    "duration": 40,
    "start_time": "2024-08-19T13:17:53.501Z"
   },
   {
    "duration": 7,
    "start_time": "2024-08-19T13:19:47.402Z"
   },
   {
    "duration": 55,
    "start_time": "2024-08-19T13:19:48.922Z"
   },
   {
    "duration": 5,
    "start_time": "2024-08-19T13:20:28.501Z"
   },
   {
    "duration": 8,
    "start_time": "2024-08-19T13:20:36.766Z"
   },
   {
    "duration": 55,
    "start_time": "2024-08-19T13:20:37.447Z"
   },
   {
    "duration": 5,
    "start_time": "2024-08-19T13:25:51.045Z"
   },
   {
    "duration": 5,
    "start_time": "2024-08-19T13:26:23.582Z"
   },
   {
    "duration": 64,
    "start_time": "2024-08-19T13:26:29.804Z"
   },
   {
    "duration": 5,
    "start_time": "2024-08-19T13:26:40.842Z"
   },
   {
    "duration": 4,
    "start_time": "2024-08-19T13:26:42.082Z"
   },
   {
    "duration": 3032,
    "start_time": "2024-08-19T13:26:47.421Z"
   },
   {
    "duration": 4426,
    "start_time": "2024-08-19T13:27:11.062Z"
   },
   {
    "duration": 5,
    "start_time": "2024-08-19T13:29:14.425Z"
   },
   {
    "duration": 26,
    "start_time": "2024-08-19T13:33:52.126Z"
   },
   {
    "duration": 24,
    "start_time": "2024-08-19T13:34:08.672Z"
   },
   {
    "duration": 5,
    "start_time": "2024-08-19T13:34:21.781Z"
   },
   {
    "duration": 4443,
    "start_time": "2024-08-19T13:34:23.721Z"
   },
   {
    "duration": 7,
    "start_time": "2024-08-19T13:34:30.222Z"
   },
   {
    "duration": 5,
    "start_time": "2024-08-19T13:40:20.002Z"
   },
   {
    "duration": 99,
    "start_time": "2024-08-19T13:42:09.692Z"
   },
   {
    "duration": 20,
    "start_time": "2024-08-19T13:42:57.192Z"
   },
   {
    "duration": 7,
    "start_time": "2024-08-19T13:43:24.566Z"
   },
   {
    "duration": 5,
    "start_time": "2024-08-19T13:43:25.471Z"
   },
   {
    "duration": 6669,
    "start_time": "2024-08-19T13:43:41.061Z"
   },
   {
    "duration": 6,
    "start_time": "2024-08-19T13:43:50.423Z"
   },
   {
    "duration": 20,
    "start_time": "2024-08-19T13:53:33.228Z"
   },
   {
    "duration": 13,
    "start_time": "2024-08-19T14:17:48.596Z"
   }
  ],
  "kernelspec": {
   "display_name": "Python 3 (ipykernel)",
   "language": "python",
   "name": "python3"
  },
  "language_info": {
   "codemirror_mode": {
    "name": "ipython",
    "version": 3
   },
   "file_extension": ".py",
   "mimetype": "text/x-python",
   "name": "python",
   "nbconvert_exporter": "python",
   "pygments_lexer": "ipython3",
   "version": "3.12.3"
  },
  "toc": {
   "base_numbering": 1,
   "nav_menu": {},
   "number_sections": true,
   "sideBar": true,
   "skip_h1_title": true,
   "title_cell": "Table of Contents",
   "title_sidebar": "Contents",
   "toc_cell": false,
   "toc_position": {},
   "toc_section_display": true,
   "toc_window_display": false
  }
 },
 "nbformat": 4,
 "nbformat_minor": 2
}
